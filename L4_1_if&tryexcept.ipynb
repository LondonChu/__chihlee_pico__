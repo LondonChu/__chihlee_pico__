{
 "cells": [
  {
   "cell_type": "code",
   "execution_count": 1,
   "metadata": {},
   "outputs": [
    {
     "name": "stdout",
     "output_type": "stream",
     "text": [
      "學生分數是:210.0\n"
     ]
    }
   ],
   "source": [
    "#學生總分為300\n",
    "#有些學生可以加分5%\n",
    "\n",
    "scores = int(input(\"請輸入學生分數(最高300分):\"))\n",
    "\n",
    "is_add = input(\"學生是否符合加分條件?(y/n)\")\n",
    "\n",
    "if is_add == \"y\":\n",
    "    scores *= 1.05\n",
    "\n",
    "print(f\"學生分數是:{scores}\")"
   ]
  },
  {
   "cell_type": "code",
   "execution_count": null,
   "metadata": {},
   "outputs": [],
   "source": [
    "#學生總分為300\n",
    "#有些學生可以加分5%\n",
    "#如果加分完超過300,就以300分為準\n",
    "\n",
    "scores = int(input(\"請輸入學生分數(最高300分):\"))\n",
    "\n",
    "if scores <= 300:\n",
    "    is_add = input(\"學生是否符合加分條件?(y/n)\")\n",
    "\n",
    "    #巢狀判斷\n",
    "    if is_add == \"y\":\n",
    "        scores *= 1.05\n",
    "        if scores > 300:\n",
    "            scores = 300\n",
    "\n",
    "    print(f\"學生分數是:{scores}\")"
   ]
  },
  {
   "cell_type": "code",
   "execution_count": null,
   "metadata": {},
   "outputs": [],
   "source": [
    "#輸入超過300分,出現警告\n",
    "\n",
    "scores = int(input(\"請輸入學生分數(最高300分):\"))\n",
    "if scores <= 300:\n",
    "    is_add = input(\"學生是否符合加分條件?(y,n)\")\n",
    "\n",
    "    #巢狀判斷\n",
    "    if is_add == \"y\":\n",
    "        scores *= 1.05\n",
    "        if scores > 300:\n",
    "            scores = 300\n",
    "\n",
    "    print(f\"學生分數是:{scores}\")\n",
    "else:\n",
    "    print(\"輸入錯誤\")    "
   ]
  },
  {
   "cell_type": "code",
   "execution_count": null,
   "metadata": {},
   "outputs": [],
   "source": [
    "try:\n",
    "    money = int(input(\"請輸入金額:\"))\n",
    "    print(money)\n",
    "except:\n",
    "    print(\"輸入格式有誤\")"
   ]
  },
  {
   "cell_type": "code",
   "execution_count": 1,
   "metadata": {},
   "outputs": [
    {
     "name": "stdout",
     "output_type": "stream",
     "text": [
      "輸入錯誤invalid literal for int() with base 10: '20.'\n"
     ]
    }
   ],
   "source": [
    "#學生總分為300\n",
    "#有些學生可以加分5%\n",
    "#如果加分完超過300,就以300分為準\n",
    "#輸入超過300分,出現警告\n",
    "#巢狀判斷\n",
    "try:\n",
    "    scores = int(input(\"請輸入學生分數(最高300分):\"))\n",
    "    if scores <= 300:\n",
    "        is_add = input(\"學生是否符合加分條件?(y,n)\")\n",
    "\n",
    "        #巢狀判斷\n",
    "        if is_add == \"y\":\n",
    "            scores *= 1.05\n",
    "            if scores > 300:\n",
    "                scores = 300\n",
    "\n",
    "        print(f\"學生分數是:{scores}\")\n",
    "    else:\n",
    "        print(\"輸入錯誤\")\n",
    "except ValueError as err:\n",
    "    print(f\"輸入錯誤{err}\")  \n",
    "except TypeError as err:\n",
    "    print(f\"類型錯誤{err}\")\n",
    "except:\n",
    "    print(\"不知名的錯誤\")"
   ]
  },
  {
   "cell_type": "code",
   "execution_count": 8,
   "metadata": {},
   "outputs": [
    {
     "name": "stdout",
     "output_type": "stream",
     "text": [
      "類型錯誤unsupported operand type(s) for +: 'int' and 'str'\n"
     ]
    }
   ],
   "source": [
    "#學生總分為300\n",
    "#有些學生可以加分5%\n",
    "#如果加分完超過300,就以300分為準\n",
    "#輸入超過300分,出現警告\n",
    "#巢狀判斷\n",
    "try:\n",
    "    scores = int(input(\"請輸入學生分數(最高300分):\"))\n",
    "except ValueError as err:\n",
    "    print(f\"輸入錯誤{err}\")\n",
    "except TypeError as err:\n",
    "    print(f\"類型錯誤{err}\")\n",
    "except:\n",
    "    print(\"不知名的錯誤\")\n",
    "else:\n",
    "    if scores <= 300:\n",
    "        is_add = input(\"學生是否符合加分條件?(y,n)\")\n",
    "\n",
    "        #巢狀判斷\n",
    "        if is_add == \"y\":\n",
    "            scores *= 1.05\n",
    "            if scores > 300:\n",
    "                scores = 300\n",
    "\n",
    "        print(f\"學生分數是:{scores}\")\n",
    "    else:\n",
    "        print(\"輸入錯誤\")"
   ]
  },
  {
   "cell_type": "code",
   "execution_count": 13,
   "metadata": {},
   "outputs": [
    {
     "name": "stdout",
     "output_type": "stream",
     "text": [
      "請輸入學生分數(最高300分):Blank values are not allowed.\n",
      "請輸入學生分數(最高300分):Blank values are not allowed.\n",
      "請輸入學生分數(最高300分):"
     ]
    },
    {
     "data": {
      "text/plain": [
       "55"
      ]
     },
     "execution_count": 13,
     "metadata": {},
     "output_type": "execute_result"
    }
   ],
   "source": [
    "#PyInputPlus : 安裝指令 pip install PyInputPlus\n",
    "import pyinputplus as pyip\n",
    "scores = pyip.inputNum(\"請輸入學生分數(最高300分):\")\n",
    "scores"
   ]
  }
 ],
 "metadata": {
  "kernelspec": {
   "display_name": "Python 3",
   "language": "python",
   "name": "python3"
  },
  "language_info": {
   "codemirror_mode": {
    "name": "ipython",
    "version": 3
   },
   "file_extension": ".py",
   "mimetype": "text/x-python",
   "name": "python",
   "nbconvert_exporter": "python",
   "pygments_lexer": "ipython3",
   "version": "3.10.13"
  }
 },
 "nbformat": 4,
 "nbformat_minor": 2
}
