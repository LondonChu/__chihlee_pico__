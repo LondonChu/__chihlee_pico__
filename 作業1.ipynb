{
 "cells": [
  {
   "cell_type": "code",
   "execution_count": 1,
   "metadata": {},
   "outputs": [
    {
     "name": "stdout",
     "output_type": "stream",
     "text": [
      "請輸入學生分數(0~100)"
     ]
    },
    {
     "name": "stdout",
     "output_type": "stream",
     "text": [
      "Blank values are not allowed.\n",
      "請輸入學生分數(0~100)Blank values are not allowed.\n",
      "請輸入學生分數(0~100)Blank values are not allowed.\n",
      "請輸入學生分數(0~100)Blank values are not allowed.\n",
      "請輸入學生分數(0~100)Blank values are not allowed.\n",
      "請輸入學生分數(0~100)Blank values are not allowed.\n",
      "請輸入學生分數(0~100)Blank values are not allowed.\n",
      "請輸入學生分數(0~100)Blank values are not allowed.\n",
      "請輸入學生分數(0~100)Blank values are not allowed.\n",
      "請輸入學生分數(0~100)Blank values are not allowed.\n",
      "請輸入學生分數(0~100)Blank values are not allowed.\n",
      "請輸入學生分數(0~100)Blank values are not allowed.\n",
      "請輸入學生分數(0~100)100\n",
      "優\n"
     ]
    }
   ],
   "source": [
    "import pyinputplus as pyip\n",
    "\n",
    "scores = pyip.inputNum(prompt=\"請輸入學生分數(0~100)\",min=0,max=100)\n",
    "print(scores)\n",
    "\n",
    "if scores<60:\n",
    "    print(\"不及格\")\n",
    "elif scores <80:\n",
    "    print(\"及格\")\n",
    "else:\n",
    "    print(\"優\")\n"
   ]
  },
  {
   "cell_type": "code",
   "execution_count": 2,
   "metadata": {},
   "outputs": [
    {
     "name": "stdout",
     "output_type": "stream",
     "text": [
      "請輸入學生分數(0~100)100\n",
      "優\n"
     ]
    }
   ],
   "source": [
    "import pyinputplus as pyip\n",
    "\n",
    "scores = pyip.inputNum(prompt=\"請輸入學生分數(0~100)\",min=0,max=100)\n",
    "print(scores)\n",
    "\n",
    "if scores<60:\n",
    "    print(\"不及格\")\n",
    "elif scores <80:\n",
    "    print(\"及格\")\n",
    "else:\n",
    "    print(\"優\")"
   ]
  }
 ],
 "metadata": {
  "kernelspec": {
   "display_name": "Python 3",
   "language": "python",
   "name": "python3"
  },
  "language_info": {
   "codemirror_mode": {
    "name": "ipython",
    "version": 3
   },
   "file_extension": ".py",
   "mimetype": "text/x-python",
   "name": "python",
   "nbconvert_exporter": "python",
   "pygments_lexer": "ipython3",
   "version": "3.10.13"
  }
 },
 "nbformat": 4,
 "nbformat_minor": 2
}
