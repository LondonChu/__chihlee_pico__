{
 "cells": [
  {
   "cell_type": "code",
   "execution_count": 4,
   "metadata": {},
   "outputs": [
    {
     "name": "stdout",
     "output_type": "stream",
     "text": [
      "請輸入收縮壓:66\n",
      "請輸入舒張壓:55\n",
      "正常\n"
     ]
    }
   ],
   "source": [
    "import pyinputplus as pyip\n",
    "sbp = pyip.inputInt(\"請輸入收縮壓:\")\n",
    "print(sbp)\n",
    "dbp = pyip.inputInt(\"請輸入舒張壓:\")\n",
    "print(dbp)\n",
    "\n",
    "suggestion = \"\"\n",
    "\n",
    "if dbp<80:\n",
    "    if sbp<120:\n",
    "        suggestion=\"正常\"\n",
    "    elif sbp<130:\n",
    "        suggestion=\"血壓升高\"\n",
    "    elif sbp>=130:\n",
    "        suggestion=\"單純收縮期高血壓\"\n",
    "else:  \n",
    "    if dbp<90 or (sbp>130 and sbp<140):   \n",
    "        suggestion=\"高血壓一期\"\n",
    "    if dbp>=90 or (sbp>=140):   \n",
    "        suggestion=\"高血壓二期\"\n",
    "\n",
    "print(suggestion)\n"
   ]
  }
 ],
 "metadata": {
  "kernelspec": {
   "display_name": "Python 3",
   "language": "python",
   "name": "python3"
  },
  "language_info": {
   "codemirror_mode": {
    "name": "ipython",
    "version": 3
   },
   "file_extension": ".py",
   "mimetype": "text/x-python",
   "name": "python",
   "nbconvert_exporter": "python",
   "pygments_lexer": "ipython3",
   "version": "3.10.13"
  }
 },
 "nbformat": 4,
 "nbformat_minor": 2
}
