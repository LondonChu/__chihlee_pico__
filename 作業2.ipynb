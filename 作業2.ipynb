{
 "cells": [
  {
   "cell_type": "code",
   "execution_count": 11,
   "metadata": {},
   "outputs": [
    {
     "name": "stdout",
     "output_type": "stream",
     "text": [
      "輸入顧客購買金額666\n",
      "折價後為666\n"
     ]
    }
   ],
   "source": [
    "#輸入顧客購買金額，若金額在\n",
    "#100000元打8折.\n",
    "#50000打85折.\n",
    "#30000打9折.\n",
    "#10000打95折.\n",
    "\n",
    "import pyinputplus as pyip\n",
    "\n",
    "Money=pyip.inputInt(\"輸入顧客購買金額\")\n",
    "print(Money)\n",
    "\n",
    "if  Money>=100000:\n",
    "    Money=Money*0.8\n",
    "elif Money>=50000:\n",
    "    Money=Money*0.85    \n",
    "elif Money>=30000:\n",
    "    Money=Money*0.9 \n",
    "elif Money>=10000:\n",
    "    Money=Money*0.95 \n",
    "\n",
    "print(f\"折價後為{Money}\")"
   ]
  }
 ],
 "metadata": {
  "kernelspec": {
   "display_name": "Python 3",
   "language": "python",
   "name": "python3"
  },
  "language_info": {
   "codemirror_mode": {
    "name": "ipython",
    "version": 3
   },
   "file_extension": ".py",
   "mimetype": "text/x-python",
   "name": "python",
   "nbconvert_exporter": "python",
   "pygments_lexer": "ipython3",
   "version": "3.10.13"
  }
 },
 "nbformat": 4,
 "nbformat_minor": 2
}
