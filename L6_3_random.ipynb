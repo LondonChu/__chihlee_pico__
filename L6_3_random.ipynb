{
 "cells": [
  {
   "cell_type": "code",
   "execution_count": 24,
   "metadata": {},
   "outputs": [
    {
     "data": {
      "text/plain": [
       "91"
      ]
     },
     "execution_count": 24,
     "metadata": {},
     "output_type": "execute_result"
    }
   ],
   "source": [
    "import random\n",
    "min = 1\n",
    "max = 100\n",
    "randomNum = random.randint(min,max)\n",
    "randomNum"
   ]
  },
  {
   "cell_type": "code",
   "execution_count": 53,
   "metadata": {},
   "outputs": [
    {
     "name": "stdout",
     "output_type": "stream",
     "text": [
      "10.0%\n",
      "10.0%\n",
      "10.0%\n",
      "10.0%\n",
      "10.0%\n",
      "10.0%\n",
      "10.0%\n",
      "10.0%\n",
      "10.1%\n",
      "10.0%\n"
     ]
    }
   ],
   "source": [
    "import random\n",
    "count=0\n",
    "min = 0\n",
    "max = 99\n",
    "v_10=0;v_20=0;v_30=0;v_40=0;v_50=0;v_60=0;v_70=0;v_80=0;v_90=0;v_100=0\n",
    "while count<1000000:\n",
    "    randomNum = random.randint(min,max)\n",
    "    if randomNum<10:\n",
    "        v_10+=1\n",
    "    elif randomNum<20:\n",
    "        v_20+=1\n",
    "    elif randomNum<30:\n",
    "        v_30+=1\n",
    "    elif randomNum<40:\n",
    "        v_40+=1\n",
    "    elif randomNum<50:\n",
    "        v_50+=1\n",
    "    elif randomNum<60:\n",
    "        v_60+=1\n",
    "    elif randomNum<70:\n",
    "        v_70+=1\n",
    "    elif randomNum<80:\n",
    "        v_80+=1\n",
    "    elif randomNum<90:\n",
    "        v_90+=1\n",
    "    else:\n",
    "        v_100+=1\n",
    "    count+=1\n",
    "print(f\"{v_10*100/count:.1f}%\");print(f\"{v_20*100/count:.1f}%\");print(f\"{v_30*100/count:.1f}%\");print(f\"{v_40*100/count:.1f}%\");print(f\"{v_50*100/count:.1f}%\")\n",
    "print(f\"{v_60*100/count:.1f}%\");print(f\"{v_70*100/count:.1f}%\");print(f\"{v_80*100/count:.1f}%\");print(f\"{v_90*100/count:.1f}%\");print(f\"{v_100*100/count:.1f}%\")\n",
    "    "
   ]
  },
  {
   "cell_type": "code",
   "execution_count": 54,
   "metadata": {},
   "outputs": [
    {
     "name": "stdout",
     "output_type": "stream",
     "text": [
      "===========猜數字遊戲=============\n",
      "猜數字範圍1~100:50\n",
      "再大一點\n",
      "您已經猜了1次\n",
      "猜數字範圍51~100:75\n",
      "再大一點\n",
      "您已經猜了2次\n",
      "猜數字範圍76~100:80\n",
      "再大一點\n",
      "您已經猜了3次\n",
      "猜數字範圍81~100:90\n",
      "再小一點\n",
      "您已經猜了4次\n",
      "猜數字範圍81~89:85\n",
      "再小一點\n",
      "您已經猜了5次\n",
      "猜數字範圍81~84:83\n",
      "再小一點\n",
      "您已經猜了6次\n",
      "猜數字範圍81~82:82\n",
      "再小一點\n",
      "您已經猜了7次\n",
      "猜數字範圍81~81:Number must be at maximum 81.\n",
      "猜數字範圍81~81:81\n",
      "賓果!猜對了, 答案是:81\n",
      "您共猜了:8次\n",
      "Game Over!\n"
     ]
    }
   ],
   "source": [
    "import random\n",
    "import pyinputplus as pyip\n",
    "\n",
    "min = 1\n",
    "max = 100\n",
    "count = 0\n",
    "randomNum = random.randint(min,max)\n",
    "\n",
    "print(\"===========猜數字遊戲=============\")\n",
    "while True:\n",
    "    keyin = pyip.inputInt(f\"猜數字範圍{min}~{max}:\",min=min,max=max)\n",
    "    print(keyin)\n",
    "    count += 1\n",
    "    if(keyin == randomNum):\n",
    "        print(f\"賓果!猜對了, 答案是:{randomNum}\")\n",
    "        print(f\"您共猜了:{count}次\")\n",
    "        break\n",
    "    elif keyin > randomNum:\n",
    "        print(\"再小一點\")\n",
    "        max = keyin - 1\n",
    "    elif keyin < randomNum:\n",
    "        print(\"再大一點\")\n",
    "        min = keyin + 1\n",
    "    print(f\"您已經猜了{count}次\")\n",
    "\n",
    "print(\"Game Over!\")"
   ]
  }
 ],
 "metadata": {
  "kernelspec": {
   "display_name": "Python 3",
   "language": "python",
   "name": "python3"
  },
  "language_info": {
   "codemirror_mode": {
    "name": "ipython",
    "version": 3
   },
   "file_extension": ".py",
   "mimetype": "text/x-python",
   "name": "python",
   "nbconvert_exporter": "python",
   "pygments_lexer": "ipython3",
   "version": "3.10.13"
  }
 },
 "nbformat": 4,
 "nbformat_minor": 2
}
