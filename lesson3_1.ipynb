{
 "cells": [
  {
   "cell_type": "code",
   "execution_count": 1,
   "metadata": {},
   "outputs": [
    {
     "name": "stdout",
     "output_type": "stream",
     "text": [
      "Hellow World!\n"
     ]
    }
   ],
   "source": [
    "print(\"Hellow World!\")"
   ]
  },
  {
   "cell_type": "code",
   "execution_count": 2,
   "metadata": {},
   "outputs": [
    {
     "data": {
      "text/plain": [
       "7.0"
      ]
     },
     "execution_count": 2,
     "metadata": {},
     "output_type": "execute_result"
    }
   ],
   "source": [
    "#0,5,9,14\n",
    "\n",
    "v2=0\n",
    "v2+=5\n",
    "v2+=9\n",
    "v2+=14\n",
    "v2/4"
   ]
  },
  {
   "cell_type": "code",
   "execution_count": 3,
   "metadata": {},
   "outputs": [
    {
     "data": {
      "text/plain": [
       "7.0"
      ]
     },
     "execution_count": 3,
     "metadata": {},
     "output_type": "execute_result"
    }
   ],
   "source": [
    "#5,6,8,9\n",
    "\n",
    "v2=0\n",
    "v2+=5\n",
    "v2+=6\n",
    "v2+=8\n",
    "v2+=9\n",
    "v2/4"
   ]
  },
  {
   "cell_type": "code",
   "execution_count": 28,
   "metadata": {},
   "outputs": [
    {
     "name": "stdout",
     "output_type": "stream",
     "text": [
      "[0, 5, 9, 14]的平均數是7\n",
      "[0, 5, 9, 14]的標準差是5.94418483337567\n",
      "[5, 6, 8, 9]的平均數是7\n",
      "[5, 6, 8, 9]的標準差是1.8257418583505538\n"
     ]
    },
    {
     "data": {
      "text/plain": [
       "1.8257418583505538"
      ]
     },
     "execution_count": 28,
     "metadata": {},
     "output_type": "execute_result"
    }
   ],
   "source": [
    "import math\n",
    "import statistics\n",
    "list1=[0,5,9,14]\n",
    "list2=[5,6,8,9]\n",
    "mean1 = statistics.mean(list1)\n",
    "mean2 = statistics.mean(list2)\n",
    "std1=statistics.stdev(list1)\n",
    "std2=statistics.stdev(list2)\n",
    "print(f'{list1}的平均數是{mean1}')\n",
    "print(f'{list1}的標準差是{std1}')\n",
    "print(f'{list2}的平均數是{mean2}')\n",
    "print(f'{list2}的標準差是{std2}')\n",
    "\n",
    "((2**2+1**1+1**1+2**2)/3)**0.5"
   ]
  }
 ],
 "metadata": {
  "kernelspec": {
   "display_name": "Python 3",
   "language": "python",
   "name": "python3"
  },
  "language_info": {
   "codemirror_mode": {
    "name": "ipython",
    "version": 3
   },
   "file_extension": ".py",
   "mimetype": "text/x-python",
   "name": "python",
   "nbconvert_exporter": "python",
   "pygments_lexer": "ipython3",
   "version": "3.10.13"
  }
 },
 "nbformat": 4,
 "nbformat_minor": 2
}
